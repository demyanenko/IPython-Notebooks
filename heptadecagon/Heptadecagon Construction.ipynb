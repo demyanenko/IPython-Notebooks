{
 "metadata": {
  "name": "",
  "signature": "sha256:7f0b0e713524e906d64b1b8f6634dd125e41ed88a5d2d6b80c017f1798f938c0"
 },
 "nbformat": 3,
 "nbformat_minor": 0,
 "worksheets": [
  {
   "cells": [
    {
     "cell_type": "code",
     "collapsed": false,
     "input": [
      "from sympy.geometry import *"
     ],
     "language": "python",
     "metadata": {},
     "outputs": [],
     "prompt_number": 63
    },
    {
     "cell_type": "markdown",
     "metadata": {},
     "source": [
      "In this notebook we'll construct a regular heptadecagon with compass and straightedge, as in https://en.wikipedia.org/wiki/Heptadecagon."
     ]
    },
    {
     "cell_type": "markdown",
     "metadata": {},
     "source": [
      "<img src=\"http://i.imgur.com/Jhs5zL3.gif\"></img>"
     ]
    },
    {
     "cell_type": "code",
     "collapsed": false,
     "input": [
      "# 1\n",
      "P1 = Point(0, 0)\n",
      "P2 = Point(-1, 0)\n",
      "P6 = Point(1, 0)\n",
      "P8 = Point(0, 1)\n",
      "C1 = Circle(P1, 1)"
     ],
     "language": "python",
     "metadata": {},
     "outputs": [],
     "prompt_number": 64
    },
    {
     "cell_type": "markdown",
     "metadata": {},
     "source": [
      "<img src=\"http://i.imgur.com/RUgXWtp.gif\"></img>"
     ]
    },
    {
     "cell_type": "code",
     "collapsed": false,
     "input": [
      "# 2\n",
      "C2 = Circle(P2, 1)"
     ],
     "language": "python",
     "metadata": {},
     "outputs": [],
     "prompt_number": 65
    },
    {
     "cell_type": "markdown",
     "metadata": {},
     "source": [
      "<img src=\"http://i.imgur.com/Mn5fWT6.gif\"></img>"
     ]
    },
    {
     "cell_type": "code",
     "collapsed": false,
     "input": [
      "# 3\n",
      "P3, P4 = tuple(intersection(C1, C2))\n",
      "L1 = Line(P1, P2)\n",
      "L2 = Line(P3, P4)\n",
      "P5 = intersection(L1, L2)[0]"
     ],
     "language": "python",
     "metadata": {},
     "outputs": [],
     "prompt_number": 66
    },
    {
     "cell_type": "markdown",
     "metadata": {},
     "source": [
      "<img src=\"http://i.imgur.com/Nwiei5S.gif\"></img>"
     ]
    },
    {
     "cell_type": "code",
     "collapsed": false,
     "input": [
      "# 4\n",
      "C3 = Circle(P5, Point.distance(P5, P6))\n",
      "P7 = intersection(C3, L2)[0]"
     ],
     "language": "python",
     "metadata": {},
     "outputs": [],
     "prompt_number": 67
    },
    {
     "cell_type": "markdown",
     "metadata": {},
     "source": [
      "<img src=\"http://i.imgur.com/g2vQtwW.gif\"></img>"
     ]
    },
    {
     "cell_type": "code",
     "collapsed": false,
     "input": [
      "# 5\n",
      "C4 = Circle(P7, Point.distance(P7, P8))"
     ],
     "language": "python",
     "metadata": {},
     "outputs": [],
     "prompt_number": 68
    },
    {
     "cell_type": "markdown",
     "metadata": {},
     "source": [
      "<img src=\"http://i.imgur.com/nQm4Me6.gif\"></img>"
     ]
    },
    {
     "cell_type": "code",
     "collapsed": false,
     "input": [
      "# 6\n",
      "P9, P10 = tuple(intersection(C4, L1))  # A0, A1"
     ],
     "language": "python",
     "metadata": {},
     "outputs": [],
     "prompt_number": 69
    },
    {
     "cell_type": "markdown",
     "metadata": {},
     "source": [
      "<img src=\"http://i.imgur.com/GxnK228.gif\"></img>"
     ]
    },
    {
     "cell_type": "code",
     "collapsed": false,
     "input": [
      "# 7"
     ],
     "language": "python",
     "metadata": {},
     "outputs": [],
     "prompt_number": 70
    },
    {
     "cell_type": "markdown",
     "metadata": {},
     "source": [
      "<img src=\"http://i.imgur.com/Hkos3k8.gif\"></img>"
     ]
    },
    {
     "cell_type": "code",
     "collapsed": false,
     "input": [
      "# 8\n",
      "C5 = Circle(P9, Point.distance(P9, P1))\n",
      "C6 = Circle(P1, Point.distance(P1, P9))\n",
      "P11, P12 = tuple(intersection(C5, C6))\n",
      "L3 = Line(P11, P12)\n",
      "P13 = intersection(L1, L3)[0]"
     ],
     "language": "python",
     "metadata": {},
     "outputs": [],
     "prompt_number": 71
    },
    {
     "cell_type": "markdown",
     "metadata": {},
     "source": [
      "<img src=\"http://i.imgur.com/jsG0EJc.gif\"></img>"
     ]
    },
    {
     "cell_type": "code",
     "collapsed": false,
     "input": [
      "# 9\n",
      "C7 = Circle(P13, Point.distance(P13, P8))"
     ],
     "language": "python",
     "metadata": {},
     "outputs": [],
     "prompt_number": 72
    },
    {
     "cell_type": "markdown",
     "metadata": {},
     "source": [
      "<img src=\"http://i.imgur.com/9R7bVJq.gif\"></img>"
     ]
    },
    {
     "cell_type": "code",
     "collapsed": false,
     "input": [
      "# 10\n",
      "P14, P15 = tuple(intersection(C7, L1))  # B0, B2"
     ],
     "language": "python",
     "metadata": {},
     "outputs": [],
     "prompt_number": 73
    },
    {
     "cell_type": "markdown",
     "metadata": {},
     "source": [
      "<img src=\"http://i.imgur.com/CVJW2nv.gif\"></img>"
     ]
    },
    {
     "cell_type": "code",
     "collapsed": false,
     "input": [
      "# 11"
     ],
     "language": "python",
     "metadata": {},
     "outputs": [],
     "prompt_number": 74
    },
    {
     "cell_type": "markdown",
     "metadata": {},
     "source": [
      "<img src=\"http://i.imgur.com/RZnM3w3.gif\"></img>"
     ]
    },
    {
     "cell_type": "code",
     "collapsed": false,
     "input": [
      "# 12\n",
      "C8 = Circle(P10, Point.distance(P10, P1))\n",
      "C9 = Circle(P1, Point.distance(P1, P10))\n",
      "P16, P17 = tuple(intersection(C8, C9))\n",
      "L4 = Line(P16, P17)\n",
      "P18 = intersection(L4, L1)[0]"
     ],
     "language": "python",
     "metadata": {},
     "outputs": [],
     "prompt_number": 75
    },
    {
     "cell_type": "markdown",
     "metadata": {},
     "source": [
      "<img src=\"http://i.imgur.com/d664HwA.gif\"></img>"
     ]
    },
    {
     "cell_type": "code",
     "collapsed": false,
     "input": [
      "# 13\n",
      "C10 = Circle(P18, Point.distance(P18, P8))"
     ],
     "language": "python",
     "metadata": {},
     "outputs": [],
     "prompt_number": 76
    },
    {
     "cell_type": "markdown",
     "metadata": {},
     "source": [
      "<img src=\"http://i.imgur.com/HAuN6jg.gif\"></img>"
     ]
    },
    {
     "cell_type": "code",
     "collapsed": false,
     "input": [
      "# 14\n",
      "P19, P20 = tuple(intersection(C10, L1))  # B1, B3"
     ],
     "language": "python",
     "metadata": {},
     "outputs": [],
     "prompt_number": 77
    },
    {
     "cell_type": "markdown",
     "metadata": {},
     "source": [
      "<img src=\"http://i.imgur.com/wbxYcUu.gif\"></img>"
     ]
    },
    {
     "cell_type": "code",
     "collapsed": false,
     "input": [
      "# 15"
     ],
     "language": "python",
     "metadata": {},
     "outputs": [],
     "prompt_number": 78
    },
    {
     "cell_type": "markdown",
     "metadata": {},
     "source": [
      "<img src=\"http://i.imgur.com/wyTbSGZ.gif\"></img>"
     ]
    },
    {
     "cell_type": "code",
     "collapsed": false,
     "input": [
      "# 16\n",
      "C11 = Circle(P19, Point.distance(P19, P6))\n",
      "C12 = Circle(P6, Point.distance(P6, P19))\n",
      "P21, P22 = tuple(intersection(C11, C12))\n",
      "L5 = Line(P21, P22)\n",
      "P23 = intersection(L5, L1)[0]"
     ],
     "language": "python",
     "metadata": {},
     "outputs": [],
     "prompt_number": 79
    },
    {
     "cell_type": "markdown",
     "metadata": {},
     "source": [
      "<img src=\"http://i.imgur.com/4kZZbPi.gif\"></img>"
     ]
    },
    {
     "cell_type": "code",
     "collapsed": false,
     "input": [
      "# 17\n",
      "C13 = Circle(P23, Point.distance(P23, P1))"
     ],
     "language": "python",
     "metadata": {},
     "outputs": [],
     "prompt_number": 80
    },
    {
     "cell_type": "markdown",
     "metadata": {},
     "source": [
      "<img src=\"http://i.imgur.com/4lKcxkI.gif\"></img>"
     ]
    },
    {
     "cell_type": "code",
     "collapsed": false,
     "input": [
      "# 18\n",
      "P24 = intersection(C13, L1)[0]\n",
      "C14 = Circle(P1, Point.distance(P1, P24))\n",
      "L6 = Line(P1, P8)\n",
      "P25 = intersection(C14, L6)[1]"
     ],
     "language": "python",
     "metadata": {},
     "outputs": [],
     "prompt_number": 81
    },
    {
     "cell_type": "markdown",
     "metadata": {},
     "source": [
      "<img src=\"http://i.imgur.com/NnuxIoo.gif\"></img>"
     ]
    },
    {
     "cell_type": "code",
     "collapsed": false,
     "input": [
      "# 19\n",
      "L7 = Line(P25, P14)"
     ],
     "language": "python",
     "metadata": {},
     "outputs": [],
     "prompt_number": 82
    },
    {
     "cell_type": "markdown",
     "metadata": {},
     "source": [
      "<img src=\"http://i.imgur.com/w35RSlm.gif\"></img>"
     ]
    },
    {
     "cell_type": "code",
     "collapsed": false,
     "input": [
      "# 20\n",
      "C15 = Circle(P25, Point.distance(P25, P14))\n",
      "C16 = Circle(P14, Point.distance(P14, P25))\n",
      "P26, P27 = tuple(intersection(C15, C16))\n",
      "L8 = Line(P26, P27)\n",
      "P28 = intersection(L8, L7)[0]"
     ],
     "language": "python",
     "metadata": {},
     "outputs": [],
     "prompt_number": 83
    },
    {
     "cell_type": "markdown",
     "metadata": {},
     "source": [
      "<img src=\"http://i.imgur.com/L79g98n.gif\"></img>"
     ]
    },
    {
     "cell_type": "code",
     "collapsed": false,
     "input": [
      "# 21\n",
      "C17 = Circle(P28, Point.distance(P28, P8))"
     ],
     "language": "python",
     "metadata": {},
     "outputs": [],
     "prompt_number": 85
    },
    {
     "cell_type": "markdown",
     "metadata": {},
     "source": [
      "<img src=\"http://i.imgur.com/B3Torjx.gif\"></img>"
     ]
    },
    {
     "cell_type": "code",
     "collapsed": false,
     "input": [
      "# 22\n",
      "P29, P30 = tuple(intersection(C17, L1))  # C0, C4"
     ],
     "language": "python",
     "metadata": {},
     "outputs": [],
     "prompt_number": 86
    },
    {
     "cell_type": "markdown",
     "metadata": {},
     "source": [
      "<img src=\"http://i.imgur.com/aMxz37u.gif\"></img>"
     ]
    },
    {
     "cell_type": "code",
     "collapsed": false,
     "input": [
      "# 23"
     ],
     "language": "python",
     "metadata": {},
     "outputs": [],
     "prompt_number": 89
    },
    {
     "cell_type": "markdown",
     "metadata": {},
     "source": [
      "<img src=\"http://i.imgur.com/PZYl4fG.gif\"></img>"
     ]
    },
    {
     "cell_type": "code",
     "collapsed": false,
     "input": [
      "# 24\n",
      "C18 = Circle(P29, Point.distance(P29, P1))\n",
      "C19 = Circle(P1, Point.distance(P1, P29))\n",
      "P31, P32 = tuple(intersection(C18, C19))\n",
      "L9 = Line(P31, P32)"
     ],
     "language": "python",
     "metadata": {},
     "outputs": [],
     "prompt_number": 90
    },
    {
     "cell_type": "markdown",
     "metadata": {},
     "source": [
      "<img src=\"http://i.imgur.com/OG0LJ6T.gif\"></img>"
     ]
    },
    {
     "cell_type": "code",
     "collapsed": false,
     "input": [
      "# 25"
     ],
     "language": "python",
     "metadata": {},
     "outputs": [],
     "prompt_number": 96
    },
    {
     "cell_type": "markdown",
     "metadata": {},
     "source": [
      "<img src=\"http://i.imgur.com/bxIKqbe.png\"></img>"
     ]
    },
    {
     "cell_type": "code",
     "collapsed": false,
     "input": [
      "# 26\n",
      "P33 = intersection(L9, C1)[1]"
     ],
     "language": "python",
     "metadata": {},
     "outputs": [],
     "prompt_number": 98
    },
    {
     "cell_type": "markdown",
     "metadata": {},
     "source": [
      "Let's see what we got:"
     ]
    },
    {
     "cell_type": "code",
     "collapsed": false,
     "input": [
      "P33.x"
     ],
     "language": "python",
     "metadata": {},
     "outputs": [
      {
       "metadata": {},
       "output_type": "pyout",
       "prompt_number": 104,
       "text": [
        "(-316*sqrt(-592960*sqrt(34)*sqrt(sqrt(17) + 17) - 564009*sqrt(34)*sqrt(-sqrt(17) + 17) - 592416*sqrt(17) + 4166224 + 1196783*sqrt(2)*sqrt(-sqrt(17) + 17) + 3368652*sqrt(2)*sqrt(sqrt(17) + 17)) - 848*sqrt(-518790*sqrt(34)*sqrt(sqrt(17) + 17) - 2721940*sqrt(17) - 404335*sqrt(-sqrt(17) + 17)*sqrt(sqrt(17) + 17) - 1161641*sqrt(2)*sqrt(-sqrt(17) + 17) + 222431*sqrt(34)*sqrt(-sqrt(17) + 17) + 82902*sqrt(17)*sqrt(-sqrt(17) + 17)*sqrt(sqrt(17) + 17) + 12580960 + 2314010*sqrt(2)*sqrt(sqrt(17) + 17)) - 169*sqrt(-3355834*sqrt(34)*sqrt(sqrt(17) + 17) - 4195685*sqrt(34)*sqrt(-sqrt(17) + 17) - 2952424*sqrt(17) + 5378579*sqrt(2)*sqrt(-sqrt(17) + 17) + 30377368 + 23593382*sqrt(2)*sqrt(sqrt(17) + 17))/2 - 395*sqrt(-13010840*sqrt(34)*sqrt(sqrt(17) + 17) - 67384040*sqrt(17) - 10928722*sqrt(-sqrt(17) + 17)*sqrt(sqrt(17) + 17) - 31933140*sqrt(2)*sqrt(-sqrt(17) + 17) + 5239372*sqrt(34)*sqrt(-sqrt(17) + 17) + 2009998*sqrt(17)*sqrt(-sqrt(17) + 17)*sqrt(sqrt(17) + 17) + 335206680 + 61037480*sqrt(2)*sqrt(sqrt(17) + 17))/4 - 915*sqrt(-395558*sqrt(34)*sqrt(sqrt(17) + 17) - 317204*sqrt(34)*sqrt(-sqrt(17) + 17) - 418744*sqrt(17) + 2379320 + 880396*sqrt(2)*sqrt(-sqrt(17) + 17) + 1980806*sqrt(2)*sqrt(sqrt(17) + 17))/4 - 107*sqrt(-378536960*sqrt(34)*sqrt(sqrt(17) + 17) - 2001033960*sqrt(17) - 281622986*sqrt(-sqrt(17) + 17)*sqrt(sqrt(17) + 17) - 799993616*sqrt(2)*sqrt(-sqrt(17) + 17) + 168060912*sqrt(34)*sqrt(-sqrt(17) + 17) + 61664746*sqrt(17)*sqrt(-sqrt(17) + 17)*sqrt(sqrt(17) + 17) + 8845076200 + 1637358400*sqrt(2)*sqrt(sqrt(17) + 17))/8 + 69*sqrt(-6724486*sqrt(34)*sqrt(sqrt(17) + 17) - 5392468*sqrt(34)*sqrt(-sqrt(17) + 17) - 7118648*sqrt(17) + 40448440 + 14966732*sqrt(2)*sqrt(-sqrt(17) + 17) + 33673702*sqrt(2)*sqrt(sqrt(17) + 17))/4 + 389*sqrt(-22266880*sqrt(34)*sqrt(sqrt(17) + 17) - 117707880*sqrt(17) - 16566058*sqrt(-sqrt(17) + 17)*sqrt(sqrt(17) + 17) - 47058448*sqrt(2)*sqrt(-sqrt(17) + 17) + 9885936*sqrt(34)*sqrt(-sqrt(17) + 17) + 3627338*sqrt(17)*sqrt(-sqrt(17) + 17)*sqrt(sqrt(17) + 17) + 520298600 + 96315200*sqrt(2)*sqrt(sqrt(17) + 17))/8 + 125*sqrt(-221184280*sqrt(34)*sqrt(sqrt(17) + 17) - 1145528680*sqrt(17) - 185788274*sqrt(-sqrt(17) + 17)*sqrt(sqrt(17) + 17) - 542863380*sqrt(2)*sqrt(-sqrt(17) + 17) + 89069324*sqrt(34)*sqrt(-sqrt(17) + 17) + 34169966*sqrt(17)*sqrt(-sqrt(17) + 17)*sqrt(sqrt(17) + 17) + 5698513560 + 1037637160*sqrt(2)*sqrt(sqrt(17) + 17))/4 + 238*sqrt(-8819430*sqrt(34)*sqrt(sqrt(17) + 17) - 46272980*sqrt(17) - 6873695*sqrt(-sqrt(17) + 17)*sqrt(sqrt(17) + 17) - 19747897*sqrt(2)*sqrt(-sqrt(17) + 17) + 3781327*sqrt(34)*sqrt(-sqrt(17) + 17) + 1409334*sqrt(17)*sqrt(-sqrt(17) + 17)*sqrt(sqrt(17) + 17) + 213876320 + 39338170*sqrt(2)*sqrt(sqrt(17) + 17)) + 903*sqrt(-197402*sqrt(34)*sqrt(sqrt(17) + 17) - 246805*sqrt(34)*sqrt(-sqrt(17) + 17) - 173672*sqrt(17) + 316387*sqrt(2)*sqrt(-sqrt(17) + 17) + 1786904 + 1387846*sqrt(2)*sqrt(sqrt(17) + 17))/2 + 1702*sqrt(-34880*sqrt(34)*sqrt(sqrt(17) + 17) - 33177*sqrt(34)*sqrt(-sqrt(17) + 17) - 34848*sqrt(17) + 245072 + 70399*sqrt(2)*sqrt(-sqrt(17) + 17) + 198156*sqrt(2)*sqrt(sqrt(17) + 17)))/((-176*sqrt(17) - 23*sqrt(34)*sqrt(sqrt(17) + 17) - 115*sqrt(2)*sqrt(-sqrt(17) + 17) - 20*sqrt(-sqrt(17) + 17)*sqrt(sqrt(17) + 17) + 4*sqrt(17)*sqrt(-sqrt(17) + 17)*sqrt(sqrt(17) + 17) + 21*sqrt(34)*sqrt(-sqrt(17) + 17) + 143*sqrt(2)*sqrt(sqrt(17) + 17) + 1192)*sqrt(-518790*sqrt(34)*sqrt(sqrt(17) + 17) - 2721940*sqrt(17) - 404335*sqrt(-sqrt(17) + 17)*sqrt(sqrt(17) + 17) - 1161641*sqrt(2)*sqrt(-sqrt(17) + 17) + 222431*sqrt(34)*sqrt(-sqrt(17) + 17) + 82902*sqrt(17)*sqrt(-sqrt(17) + 17)*sqrt(sqrt(17) + 17) + 12580960 + 2314010*sqrt(2)*sqrt(sqrt(17) + 17)))"
       ]
      }
     ],
     "prompt_number": 104
    },
    {
     "cell_type": "code",
     "collapsed": false,
     "input": [
      "float(P33.x)"
     ],
     "language": "python",
     "metadata": {},
     "outputs": [
      {
       "metadata": {},
       "output_type": "pyout",
       "prompt_number": 109,
       "text": [
        "0.9324722294043558"
       ]
      }
     ],
     "prompt_number": 109
    },
    {
     "cell_type": "markdown",
     "metadata": {},
     "source": [
      "And Wiki's version:"
     ]
    },
    {
     "cell_type": "markdown",
     "metadata": {},
     "source": [
      "<img src=\"http://i.imgur.com/1Ld0Wvf.png\"></img>"
     ]
    },
    {
     "cell_type": "code",
     "collapsed": false,
     "input": [
      "from math import sqrt"
     ],
     "language": "python",
     "metadata": {},
     "outputs": [],
     "prompt_number": 110
    },
    {
     "cell_type": "code",
     "collapsed": false,
     "input": [
      "(-1 + sqrt(17) + sqrt(34 - 2*sqrt(17)) + 2*sqrt(17 + 3*sqrt(17) - sqrt(34 - 2*sqrt(17)) - 2*sqrt(34 + 2*sqrt(17)))) / 16"
     ],
     "language": "python",
     "metadata": {},
     "outputs": [
      {
       "metadata": {},
       "output_type": "pyout",
       "prompt_number": 111,
       "text": [
        "0.9324722294043558"
       ]
      }
     ],
     "prompt_number": 111
    }
   ],
   "metadata": {}
  }
 ]
}